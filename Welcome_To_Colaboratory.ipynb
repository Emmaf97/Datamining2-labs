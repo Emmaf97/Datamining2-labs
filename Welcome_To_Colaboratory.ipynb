{
  "nbformat": 4,
  "nbformat_minor": 0,
  "metadata": {
    "colab": {
      "name": "Welcome To Colaboratory",
      "provenance": [],
      "collapsed_sections": [],
      "toc_visible": true
    },
    "kernelspec": {
      "display_name": "Python 3",
      "name": "python3"
    }
  },
  "cells": [
    {
      "cell_type": "code",
      "metadata": {
        "id": "IgfFXm-LBPRn",
        "colab_type": "code",
        "colab": {}
      },
      "source": [
        "import pandas as pd\n",
        "import numpy as np\n",
        "import matplotlib.pyplot as plt\n",
        "import seaborn as sns\n",
        "sns.set_style(\"darkgrid\")\n",
        "from IPython.display import display, Markdown\n",
        "pd.set_option('display.max_columns', None)\n",
        "DEBUG = False\n",
        "import os\n",
        "for d in ['src','data','output']: os.makedirs(d, exist_ok=True)\n",
        "   "
      ],
      "execution_count": 0,
      "outputs": []
    },
    {
      "cell_type": "code",
      "metadata": {
        "id": "AOzcgHQGB3r0",
        "colab_type": "code",
        "colab": {
          "base_uri": "https://localhost:8080/",
          "height": 51
        },
        "outputId": "8334a56c-3250-478f-bb44-6cc10747796d"
      },
      "source": [
        "for filename in ['churn.csv','states.csv']:\n",
        "    source = f\"https://kmurphy.bitbucket.io/modules/Data_Mining_2/topics/01-Module_Introduction/20-Practical_01_-_Review_of_Pandas_-_Churn/files/{filename}\"\n",
        "    target = f\"src/{filename}\"\n",
        "\n",
        "    if not os.path.isfile(target):\n",
        "        print (f\"Downloading remote file {filename}\", sep=\"\")\n",
        "        import urllib.request\n",
        "        urllib.request.urlretrieve(source, target)\n",
        "    else:\n",
        "        print(f\"Using local copy of {filename}\")"
      ],
      "execution_count": 20,
      "outputs": [
        {
          "output_type": "stream",
          "text": [
            "Downloading remote file churn.csv\n",
            "Downloading remote file states.csv\n"
          ],
          "name": "stdout"
        }
      ]
    },
    {
      "cell_type": "code",
      "metadata": {
        "id": "SfATz5GVC7tn",
        "colab_type": "code",
        "colab": {}
      },
      "source": [
        ""
      ],
      "execution_count": 0,
      "outputs": []
    }
  ]
}